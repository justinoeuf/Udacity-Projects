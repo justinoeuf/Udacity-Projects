{
 "cells": [
  {
   "cell_type": "markdown",
   "metadata": {},
   "source": [
    "\n",
    "# Project: Investigating Medical Appointment No-Shows\n",
    "\n",
    "## Table of Contents\n",
    "<ul>\n",
    "<li><a href=\"#intro\">Introduction</a></li>\n",
    "<li><a href=\"#wrangling\">Data Wrangling</a></li>\n",
    "<li><a href=\"#eda\">Exploratory Data Analysis</a></li>\n",
    "<li><a href=\"#conclusions\">Conclusions</a></li>\n",
    "</ul>"
   ]
  },
  {
   "cell_type": "markdown",
   "metadata": {},
   "source": [
    "<a id='intro'></a>\n",
    "## Introduction\n",
    "\n",
    "For this project, I will be looking at a selection of doctor's appointment attendance records. The data is taken from a collection of offices in Brazil and consists of entries recorded in the summer of 2016. After preparing and cleaning this set, I want to determine what patient factors most contribute to a person showing up, or not showing up, for their doctor's appointment. At the conclusion of this report, I hope to apply the findings to an unseen segment of the data to see if accurate predictions can be made about the behavior of a group of patients."
   ]
  },
  {
   "cell_type": "code",
   "execution_count": 1,
   "metadata": {},
   "outputs": [],
   "source": [
    "import pandas as pd\n",
    "import numpy as np\n",
    "import matplotlib.pyplot as plt\n",
    "import seaborn as sns\n",
    "from matplotlib.patches import Patch\n",
    "% matplotlib inline\n",
    "palette = sns.color_palette()\n",
    "palette2 = sns.color_palette('pastel')"
   ]
  },
  {
   "cell_type": "markdown",
   "metadata": {},
   "source": [
    "<a id='wrangling'></a>\n",
    "## Data Wrangling\n",
    "\n",
    "### General Properties"
   ]
  },
  {
   "cell_type": "markdown",
   "metadata": {},
   "source": [
    "First, I import the raw data to view the first few rows, and call the `.info()` method to learn the total number of entries and intial data types. "
   ]
  },
  {
   "cell_type": "code",
   "execution_count": 2,
   "metadata": {
    "scrolled": true
   },
   "outputs": [
    {
     "data": {
      "text/html": [
       "<div>\n",
       "<style scoped>\n",
       "    .dataframe tbody tr th:only-of-type {\n",
       "        vertical-align: middle;\n",
       "    }\n",
       "\n",
       "    .dataframe tbody tr th {\n",
       "        vertical-align: top;\n",
       "    }\n",
       "\n",
       "    .dataframe thead th {\n",
       "        text-align: right;\n",
       "    }\n",
       "</style>\n",
       "<table border=\"1\" class=\"dataframe\">\n",
       "  <thead>\n",
       "    <tr style=\"text-align: right;\">\n",
       "      <th></th>\n",
       "      <th>PatientId</th>\n",
       "      <th>AppointmentID</th>\n",
       "      <th>Gender</th>\n",
       "      <th>ScheduledDay</th>\n",
       "      <th>AppointmentDay</th>\n",
       "      <th>Age</th>\n",
       "      <th>Neighbourhood</th>\n",
       "      <th>Scholarship</th>\n",
       "      <th>Hipertension</th>\n",
       "      <th>Diabetes</th>\n",
       "      <th>Alcoholism</th>\n",
       "      <th>Handcap</th>\n",
       "      <th>SMS_received</th>\n",
       "      <th>No-show</th>\n",
       "    </tr>\n",
       "  </thead>\n",
       "  <tbody>\n",
       "    <tr>\n",
       "      <th>0</th>\n",
       "      <td>2.987250e+13</td>\n",
       "      <td>5642903</td>\n",
       "      <td>F</td>\n",
       "      <td>2016-04-29T18:38:08Z</td>\n",
       "      <td>2016-04-29T00:00:00Z</td>\n",
       "      <td>62</td>\n",
       "      <td>JARDIM DA PENHA</td>\n",
       "      <td>0</td>\n",
       "      <td>1</td>\n",
       "      <td>0</td>\n",
       "      <td>0</td>\n",
       "      <td>0</td>\n",
       "      <td>0</td>\n",
       "      <td>No</td>\n",
       "    </tr>\n",
       "    <tr>\n",
       "      <th>1</th>\n",
       "      <td>5.589980e+14</td>\n",
       "      <td>5642503</td>\n",
       "      <td>M</td>\n",
       "      <td>2016-04-29T16:08:27Z</td>\n",
       "      <td>2016-04-29T00:00:00Z</td>\n",
       "      <td>56</td>\n",
       "      <td>JARDIM DA PENHA</td>\n",
       "      <td>0</td>\n",
       "      <td>0</td>\n",
       "      <td>0</td>\n",
       "      <td>0</td>\n",
       "      <td>0</td>\n",
       "      <td>0</td>\n",
       "      <td>No</td>\n",
       "    </tr>\n",
       "    <tr>\n",
       "      <th>2</th>\n",
       "      <td>4.262960e+12</td>\n",
       "      <td>5642549</td>\n",
       "      <td>F</td>\n",
       "      <td>2016-04-29T16:19:04Z</td>\n",
       "      <td>2016-04-29T00:00:00Z</td>\n",
       "      <td>62</td>\n",
       "      <td>MATA DA PRAIA</td>\n",
       "      <td>0</td>\n",
       "      <td>0</td>\n",
       "      <td>0</td>\n",
       "      <td>0</td>\n",
       "      <td>0</td>\n",
       "      <td>0</td>\n",
       "      <td>No</td>\n",
       "    </tr>\n",
       "    <tr>\n",
       "      <th>3</th>\n",
       "      <td>8.679510e+11</td>\n",
       "      <td>5642828</td>\n",
       "      <td>F</td>\n",
       "      <td>2016-04-29T17:29:31Z</td>\n",
       "      <td>2016-04-29T00:00:00Z</td>\n",
       "      <td>8</td>\n",
       "      <td>PONTAL DE CAMBURI</td>\n",
       "      <td>0</td>\n",
       "      <td>0</td>\n",
       "      <td>0</td>\n",
       "      <td>0</td>\n",
       "      <td>0</td>\n",
       "      <td>0</td>\n",
       "      <td>No</td>\n",
       "    </tr>\n",
       "    <tr>\n",
       "      <th>4</th>\n",
       "      <td>8.841190e+12</td>\n",
       "      <td>5642494</td>\n",
       "      <td>F</td>\n",
       "      <td>2016-04-29T16:07:23Z</td>\n",
       "      <td>2016-04-29T00:00:00Z</td>\n",
       "      <td>56</td>\n",
       "      <td>JARDIM DA PENHA</td>\n",
       "      <td>0</td>\n",
       "      <td>1</td>\n",
       "      <td>1</td>\n",
       "      <td>0</td>\n",
       "      <td>0</td>\n",
       "      <td>0</td>\n",
       "      <td>No</td>\n",
       "    </tr>\n",
       "  </tbody>\n",
       "</table>\n",
       "</div>"
      ],
      "text/plain": [
       "      PatientId  AppointmentID Gender          ScheduledDay  \\\n",
       "0  2.987250e+13        5642903      F  2016-04-29T18:38:08Z   \n",
       "1  5.589980e+14        5642503      M  2016-04-29T16:08:27Z   \n",
       "2  4.262960e+12        5642549      F  2016-04-29T16:19:04Z   \n",
       "3  8.679510e+11        5642828      F  2016-04-29T17:29:31Z   \n",
       "4  8.841190e+12        5642494      F  2016-04-29T16:07:23Z   \n",
       "\n",
       "         AppointmentDay  Age      Neighbourhood  Scholarship  Hipertension  \\\n",
       "0  2016-04-29T00:00:00Z   62    JARDIM DA PENHA            0             1   \n",
       "1  2016-04-29T00:00:00Z   56    JARDIM DA PENHA            0             0   \n",
       "2  2016-04-29T00:00:00Z   62      MATA DA PRAIA            0             0   \n",
       "3  2016-04-29T00:00:00Z    8  PONTAL DE CAMBURI            0             0   \n",
       "4  2016-04-29T00:00:00Z   56    JARDIM DA PENHA            0             1   \n",
       "\n",
       "   Diabetes  Alcoholism  Handcap  SMS_received No-show  \n",
       "0         0           0        0             0      No  \n",
       "1         0           0        0             0      No  \n",
       "2         0           0        0             0      No  \n",
       "3         0           0        0             0      No  \n",
       "4         1           0        0             0      No  "
      ]
     },
     "execution_count": 2,
     "metadata": {},
     "output_type": "execute_result"
    }
   ],
   "source": [
    "df = pd.read_csv('noshowappointments.csv')\n",
    "df.head()"
   ]
  },
  {
   "cell_type": "code",
   "execution_count": 3,
   "metadata": {
    "scrolled": true
   },
   "outputs": [
    {
     "name": "stdout",
     "output_type": "stream",
     "text": [
      "<class 'pandas.core.frame.DataFrame'>\n",
      "RangeIndex: 110527 entries, 0 to 110526\n",
      "Data columns (total 14 columns):\n",
      "PatientId         110527 non-null float64\n",
      "AppointmentID     110527 non-null int64\n",
      "Gender            110527 non-null object\n",
      "ScheduledDay      110527 non-null object\n",
      "AppointmentDay    110527 non-null object\n",
      "Age               110527 non-null int64\n",
      "Neighbourhood     110527 non-null object\n",
      "Scholarship       110527 non-null int64\n",
      "Hipertension      110527 non-null int64\n",
      "Diabetes          110527 non-null int64\n",
      "Alcoholism        110527 non-null int64\n",
      "Handcap           110527 non-null int64\n",
      "SMS_received      110527 non-null int64\n",
      "No-show           110527 non-null object\n",
      "dtypes: float64(1), int64(8), object(5)\n",
      "memory usage: 11.8+ MB\n"
     ]
    }
   ],
   "source": [
    "df.info()"
   ]
  },
  {
   "cell_type": "markdown",
   "metadata": {},
   "source": [
    "Wow over 100K rows! The columns headers all seem understandable to the context of the data; after consulting the Kaggle Directy, I confirm that column `df.ScheduledDay` is the datetime when the patient requests the appointment listed in `df.AppointmentDay`. Also, I learn that \"Scholarship\" is an indicator of patients' status in which resepct to to government welfare.\n",
    "\n",
    "There seem to be a lot of binary values in the set-- either the patient has the characteristic or they don't. It appears that all columns have the same number of non-null entries. Below, I check the basic statistical measurements to get a better understanding of the range of the data."
   ]
  },
  {
   "cell_type": "code",
   "execution_count": 4,
   "metadata": {
    "scrolled": true
   },
   "outputs": [
    {
     "data": {
      "text/html": [
       "<div>\n",
       "<style scoped>\n",
       "    .dataframe tbody tr th:only-of-type {\n",
       "        vertical-align: middle;\n",
       "    }\n",
       "\n",
       "    .dataframe tbody tr th {\n",
       "        vertical-align: top;\n",
       "    }\n",
       "\n",
       "    .dataframe thead th {\n",
       "        text-align: right;\n",
       "    }\n",
       "</style>\n",
       "<table border=\"1\" class=\"dataframe\">\n",
       "  <thead>\n",
       "    <tr style=\"text-align: right;\">\n",
       "      <th></th>\n",
       "      <th>PatientId</th>\n",
       "      <th>AppointmentID</th>\n",
       "      <th>Age</th>\n",
       "      <th>Scholarship</th>\n",
       "      <th>Hipertension</th>\n",
       "      <th>Diabetes</th>\n",
       "      <th>Alcoholism</th>\n",
       "      <th>Handcap</th>\n",
       "      <th>SMS_received</th>\n",
       "    </tr>\n",
       "  </thead>\n",
       "  <tbody>\n",
       "    <tr>\n",
       "      <th>count</th>\n",
       "      <td>1.105270e+05</td>\n",
       "      <td>1.105270e+05</td>\n",
       "      <td>110527.000000</td>\n",
       "      <td>110527.000000</td>\n",
       "      <td>110527.000000</td>\n",
       "      <td>110527.000000</td>\n",
       "      <td>110527.000000</td>\n",
       "      <td>110527.000000</td>\n",
       "      <td>110527.000000</td>\n",
       "    </tr>\n",
       "    <tr>\n",
       "      <th>mean</th>\n",
       "      <td>1.474963e+14</td>\n",
       "      <td>5.675305e+06</td>\n",
       "      <td>37.088874</td>\n",
       "      <td>0.098266</td>\n",
       "      <td>0.197246</td>\n",
       "      <td>0.071865</td>\n",
       "      <td>0.030400</td>\n",
       "      <td>0.022248</td>\n",
       "      <td>0.321026</td>\n",
       "    </tr>\n",
       "    <tr>\n",
       "      <th>std</th>\n",
       "      <td>2.560949e+14</td>\n",
       "      <td>7.129575e+04</td>\n",
       "      <td>23.110205</td>\n",
       "      <td>0.297675</td>\n",
       "      <td>0.397921</td>\n",
       "      <td>0.258265</td>\n",
       "      <td>0.171686</td>\n",
       "      <td>0.161543</td>\n",
       "      <td>0.466873</td>\n",
       "    </tr>\n",
       "    <tr>\n",
       "      <th>min</th>\n",
       "      <td>3.920000e+04</td>\n",
       "      <td>5.030230e+06</td>\n",
       "      <td>-1.000000</td>\n",
       "      <td>0.000000</td>\n",
       "      <td>0.000000</td>\n",
       "      <td>0.000000</td>\n",
       "      <td>0.000000</td>\n",
       "      <td>0.000000</td>\n",
       "      <td>0.000000</td>\n",
       "    </tr>\n",
       "    <tr>\n",
       "      <th>25%</th>\n",
       "      <td>4.172615e+12</td>\n",
       "      <td>5.640286e+06</td>\n",
       "      <td>18.000000</td>\n",
       "      <td>0.000000</td>\n",
       "      <td>0.000000</td>\n",
       "      <td>0.000000</td>\n",
       "      <td>0.000000</td>\n",
       "      <td>0.000000</td>\n",
       "      <td>0.000000</td>\n",
       "    </tr>\n",
       "    <tr>\n",
       "      <th>50%</th>\n",
       "      <td>3.173180e+13</td>\n",
       "      <td>5.680573e+06</td>\n",
       "      <td>37.000000</td>\n",
       "      <td>0.000000</td>\n",
       "      <td>0.000000</td>\n",
       "      <td>0.000000</td>\n",
       "      <td>0.000000</td>\n",
       "      <td>0.000000</td>\n",
       "      <td>0.000000</td>\n",
       "    </tr>\n",
       "    <tr>\n",
       "      <th>75%</th>\n",
       "      <td>9.439170e+13</td>\n",
       "      <td>5.725524e+06</td>\n",
       "      <td>55.000000</td>\n",
       "      <td>0.000000</td>\n",
       "      <td>0.000000</td>\n",
       "      <td>0.000000</td>\n",
       "      <td>0.000000</td>\n",
       "      <td>0.000000</td>\n",
       "      <td>1.000000</td>\n",
       "    </tr>\n",
       "    <tr>\n",
       "      <th>max</th>\n",
       "      <td>9.999820e+14</td>\n",
       "      <td>5.790484e+06</td>\n",
       "      <td>115.000000</td>\n",
       "      <td>1.000000</td>\n",
       "      <td>1.000000</td>\n",
       "      <td>1.000000</td>\n",
       "      <td>1.000000</td>\n",
       "      <td>4.000000</td>\n",
       "      <td>1.000000</td>\n",
       "    </tr>\n",
       "  </tbody>\n",
       "</table>\n",
       "</div>"
      ],
      "text/plain": [
       "          PatientId  AppointmentID            Age    Scholarship  \\\n",
       "count  1.105270e+05   1.105270e+05  110527.000000  110527.000000   \n",
       "mean   1.474963e+14   5.675305e+06      37.088874       0.098266   \n",
       "std    2.560949e+14   7.129575e+04      23.110205       0.297675   \n",
       "min    3.920000e+04   5.030230e+06      -1.000000       0.000000   \n",
       "25%    4.172615e+12   5.640286e+06      18.000000       0.000000   \n",
       "50%    3.173180e+13   5.680573e+06      37.000000       0.000000   \n",
       "75%    9.439170e+13   5.725524e+06      55.000000       0.000000   \n",
       "max    9.999820e+14   5.790484e+06     115.000000       1.000000   \n",
       "\n",
       "        Hipertension       Diabetes     Alcoholism        Handcap  \\\n",
       "count  110527.000000  110527.000000  110527.000000  110527.000000   \n",
       "mean        0.197246       0.071865       0.030400       0.022248   \n",
       "std         0.397921       0.258265       0.171686       0.161543   \n",
       "min         0.000000       0.000000       0.000000       0.000000   \n",
       "25%         0.000000       0.000000       0.000000       0.000000   \n",
       "50%         0.000000       0.000000       0.000000       0.000000   \n",
       "75%         0.000000       0.000000       0.000000       0.000000   \n",
       "max         1.000000       1.000000       1.000000       4.000000   \n",
       "\n",
       "        SMS_received  \n",
       "count  110527.000000  \n",
       "mean        0.321026  \n",
       "std         0.466873  \n",
       "min         0.000000  \n",
       "25%         0.000000  \n",
       "50%         0.000000  \n",
       "75%         1.000000  \n",
       "max         1.000000  "
      ]
     },
     "execution_count": 4,
     "metadata": {},
     "output_type": "execute_result"
    }
   ],
   "source": [
    "df.describe()"
   ]
  },
  {
   "cell_type": "markdown",
   "metadata": {},
   "source": [
    "From `.describe()` the min and max for each column appear to be reasonable, except for `df.Age` where there is at least one negative entry. These will need to be removed later."
   ]
  },
  {
   "cell_type": "code",
   "execution_count": 5,
   "metadata": {
    "scrolled": false
   },
   "outputs": [
    {
     "data": {
      "text/plain": [
       "PatientId          61744\n",
       "AppointmentID     110527\n",
       "Gender                 2\n",
       "ScheduledDay      103549\n",
       "AppointmentDay        27\n",
       "Age                  104\n",
       "Neighbourhood         81\n",
       "Scholarship            2\n",
       "Hipertension           2\n",
       "Diabetes               2\n",
       "Alcoholism             2\n",
       "Handcap                5\n",
       "SMS_received           2\n",
       "No-show                2\n",
       "dtype: int64"
      ]
     },
     "execution_count": 5,
     "metadata": {},
     "output_type": "execute_result"
    }
   ],
   "source": [
    "df.nunique()"
   ]
  },
  {
   "cell_type": "markdown",
   "metadata": {},
   "source": [
    "`df.Handcap` should only contain values 1 and 0, so something is up there. I also see that the number of unique `df.PatientId` is about half of than the total number of appointments, meaning that at least of these patients are scheduling multiple appointments. \n",
    "\n",
    "Let's look a quick trend of the data. "
   ]
  },
  {
   "cell_type": "code",
   "execution_count": 33,
   "metadata": {},
   "outputs": [
    {
     "data": {
      "image/png": "[encoded data removed]",
      "text/plain": [
       "<matplotlib.figure.Figure at 0x7f821655fcc0>"
      ]
     },
     "metadata": {},
     "output_type": "display_data"
    }
   ],
   "source": [
    "df.hist(figsize=(10,8), color = palette[0]);\n",
    "plt.style.use('seaborn')\n",
    "plt.tight_layout()\n",
    "plt.show()"
   ]
  },
  {
   "cell_type": "markdown",
   "metadata": {},
   "source": [
    "As noted earlier, a majority of the data exists as binary values. Given this, I plan to use binary correlation values for at least some of my analysis. Also, `df.No-Show` and `df.Gender` were not able to be shown in the set of histograms, because they are objects and not int64."
   ]
  },
  {
   "cell_type": "markdown",
   "metadata": {},
   "source": [
    "### Data Cleaning"
   ]
  },
  {
   "cell_type": "code",
   "execution_count": 7,
   "metadata": {
    "scrolled": true
   },
   "outputs": [
    {
     "name": "stdout",
     "output_type": "stream",
     "text": [
      "<class 'pandas.core.frame.DataFrame'>\n",
      "Int64Index: 109223 entries, 1 to 110326\n",
      "Data columns (total 14 columns):\n",
      "PatientId         109223 non-null float64\n",
      "AppointmentID     109223 non-null int64\n",
      "Gender            109223 non-null int64\n",
      "ScheduledDay      109223 non-null datetime64[ns]\n",
      "AppointmentDay    109223 non-null datetime64[ns]\n",
      "Age               109223 non-null int64\n",
      "Neighbourhood     109223 non-null object\n",
      "Scholarship       109223 non-null int64\n",
      "Hipertension      109223 non-null int64\n",
      "Diabetes          109223 non-null int64\n",
      "Alcoholism        109223 non-null int64\n",
      "Handcap           109223 non-null int64\n",
      "SMS_received      109223 non-null int64\n",
      "Show              109223 non-null int64\n",
      "dtypes: datetime64[ns](2), float64(1), int64(10), object(1)\n",
      "memory usage: 12.5+ MB\n"
     ]
    },
    {
     "data": {
      "text/html": [
       "<div>\n",
       "<style scoped>\n",
       "    .dataframe tbody tr th:only-of-type {\n",
       "        vertical-align: middle;\n",
       "    }\n",
       "\n",
       "    .dataframe tbody tr th {\n",
       "        vertical-align: top;\n",
       "    }\n",
       "\n",
       "    .dataframe thead th {\n",
       "        text-align: right;\n",
       "    }\n",
       "</style>\n",
       "<table border=\"1\" class=\"dataframe\">\n",
       "  <thead>\n",
       "    <tr style=\"text-align: right;\">\n",
       "      <th></th>\n",
       "      <th>PatientId</th>\n",
       "      <th>AppointmentID</th>\n",
       "      <th>Gender</th>\n",
       "      <th>ScheduledDay</th>\n",
       "      <th>AppointmentDay</th>\n",
       "      <th>Age</th>\n",
       "      <th>Neighbourhood</th>\n",
       "      <th>Scholarship</th>\n",
       "      <th>Hipertension</th>\n",
       "      <th>Diabetes</th>\n",
       "      <th>Alcoholism</th>\n",
       "      <th>Handcap</th>\n",
       "      <th>SMS_received</th>\n",
       "      <th>Show</th>\n",
       "    </tr>\n",
       "  </thead>\n",
       "  <tbody>\n",
       "    <tr>\n",
       "      <th>1</th>\n",
       "      <td>5.589980e+14</td>\n",
       "      <td>5642503</td>\n",
       "      <td>0</td>\n",
       "      <td>2016-04-29 16:08:27</td>\n",
       "      <td>2016-04-29</td>\n",
       "      <td>56</td>\n",
       "      <td>JARDIM DA PENHA</td>\n",
       "      <td>0</td>\n",
       "      <td>0</td>\n",
       "      <td>0</td>\n",
       "      <td>0</td>\n",
       "      <td>0</td>\n",
       "      <td>0</td>\n",
       "      <td>1</td>\n",
       "    </tr>\n",
       "    <tr>\n",
       "      <th>2</th>\n",
       "      <td>4.262960e+12</td>\n",
       "      <td>5642549</td>\n",
       "      <td>1</td>\n",
       "      <td>2016-04-29 16:19:04</td>\n",
       "      <td>2016-04-29</td>\n",
       "      <td>62</td>\n",
       "      <td>MATA DA PRAIA</td>\n",
       "      <td>0</td>\n",
       "      <td>0</td>\n",
       "      <td>0</td>\n",
       "      <td>0</td>\n",
       "      <td>0</td>\n",
       "      <td>0</td>\n",
       "      <td>1</td>\n",
       "    </tr>\n",
       "    <tr>\n",
       "      <th>3</th>\n",
       "      <td>8.679510e+11</td>\n",
       "      <td>5642828</td>\n",
       "      <td>1</td>\n",
       "      <td>2016-04-29 17:29:31</td>\n",
       "      <td>2016-04-29</td>\n",
       "      <td>8</td>\n",
       "      <td>PONTAL DE CAMBURI</td>\n",
       "      <td>0</td>\n",
       "      <td>0</td>\n",
       "      <td>0</td>\n",
       "      <td>0</td>\n",
       "      <td>0</td>\n",
       "      <td>0</td>\n",
       "      <td>1</td>\n",
       "    </tr>\n",
       "    <tr>\n",
       "      <th>4</th>\n",
       "      <td>8.841190e+12</td>\n",
       "      <td>5642494</td>\n",
       "      <td>1</td>\n",
       "      <td>2016-04-29 16:07:23</td>\n",
       "      <td>2016-04-29</td>\n",
       "      <td>56</td>\n",
       "      <td>JARDIM DA PENHA</td>\n",
       "      <td>0</td>\n",
       "      <td>1</td>\n",
       "      <td>1</td>\n",
       "      <td>0</td>\n",
       "      <td>0</td>\n",
       "      <td>0</td>\n",
       "      <td>1</td>\n",
       "    </tr>\n",
       "    <tr>\n",
       "      <th>5</th>\n",
       "      <td>9.598510e+13</td>\n",
       "      <td>5626772</td>\n",
       "      <td>1</td>\n",
       "      <td>2016-04-27 08:36:51</td>\n",
       "      <td>2016-04-29</td>\n",
       "      <td>76</td>\n",
       "      <td>REPÚBLICA</td>\n",
       "      <td>0</td>\n",
       "      <td>1</td>\n",
       "      <td>0</td>\n",
       "      <td>0</td>\n",
       "      <td>0</td>\n",
       "      <td>0</td>\n",
       "      <td>1</td>\n",
       "    </tr>\n",
       "  </tbody>\n",
       "</table>\n",
       "</div>"
      ],
      "text/plain": [
       "      PatientId  AppointmentID  Gender        ScheduledDay AppointmentDay  \\\n",
       "1  5.589980e+14        5642503       0 2016-04-29 16:08:27     2016-04-29   \n",
       "2  4.262960e+12        5642549       1 2016-04-29 16:19:04     2016-04-29   \n",
       "3  8.679510e+11        5642828       1 2016-04-29 17:29:31     2016-04-29   \n",
       "4  8.841190e+12        5642494       1 2016-04-29 16:07:23     2016-04-29   \n",
       "5  9.598510e+13        5626772       1 2016-04-27 08:36:51     2016-04-29   \n",
       "\n",
       "   Age      Neighbourhood  Scholarship  Hipertension  Diabetes  Alcoholism  \\\n",
       "1   56    JARDIM DA PENHA            0             0         0           0   \n",
       "2   62      MATA DA PRAIA            0             0         0           0   \n",
       "3    8  PONTAL DE CAMBURI            0             0         0           0   \n",
       "4   56    JARDIM DA PENHA            0             1         1           0   \n",
       "5   76          REPÚBLICA            0             1         0           0   \n",
       "\n",
       "   Handcap  SMS_received  Show  \n",
       "1        0             0     1  \n",
       "2        0             0     1  \n",
       "3        0             0     1  \n",
       "4        0             0     1  \n",
       "5        0             0     1  "
      ]
     },
     "execution_count": 7,
     "metadata": {},
     "output_type": "execute_result"
    }
   ],
   "source": [
    "# 1. Dropping the row with the errant age entry, and dropping all Handcap values > 1.\n",
    "df.drop(df.loc[df.Age < 0].index, inplace = True)\n",
    "df.drop(df.loc[df.Handcap > 1].index, inplace = True)\n",
    "\n",
    "# 2. Renaming \"No-Show\" column, for clarity. Haha I like envisioning the data \"Show\". Pesonal preference.\n",
    "df.rename(columns = {\"No-show\": \"Show\"}, inplace = True)\n",
    "\n",
    "# 3. Tranforming the Gender and Show columns to represented as binary values.\n",
    "    ## Male is represented as 0 and Female as 1\n",
    "df.Gender.mask(df.Gender == 'F', 1, inplace = True)\n",
    "df.Gender.mask(df.Gender == 'M', 0, inplace = True)\n",
    "df.Gender = df.Gender.apply(pd.to_numeric, errors='coerce')\n",
    "\n",
    "    ## Show (formerly \"No-Show\") is 1 and non-attendance is 0\n",
    "df.Show.mask(df.Show == 'No', 1, inplace = True)\n",
    "df.Show.mask(df.Show == 'Yes', 0, inplace = True)\n",
    "df.Show = df.Show.apply(pd.to_numeric, errors='coerce')\n",
    "\n",
    "# 5. Making dates into dateimes so that they can be more easily manipulated.\n",
    "from datetime import datetime\n",
    "df[\"ScheduledDay\"] = pd.to_datetime(df[\"ScheduledDay\"], format = \"%Y-%m-%dT%H:%M:%SZ\")\n",
    "df[\"AppointmentDay\"] = pd.to_datetime(df[\"AppointmentDay\"], format = \"%Y-%m-%dT%H:%M:%SZ\")\n",
    "\n",
    "# 6. Creating a separate \"test\" table and creating a table, \"dfb\", that is only binary values.\n",
    "df.reset_index(drop = True, inplace = True)\n",
    "\n",
    "df_random = df.iloc[::100,:].copy()\n",
    "df_random.sample(frac=1).reset_index(drop = True, inplace = True) #shuffling the data\n",
    "df.drop(df.index[::100], inplace = True)\n",
    "\n",
    "dfb = df.copy()\n",
    "dfb.drop(columns=[\"PatientId\", \"AppointmentID\", \"Neighbourhood\", \"ScheduledDay\", \"AppointmentDay\"], inplace = True)\n",
    "\n",
    "# 7. Structure check\n",
    "df.info()\n",
    "df.head()"
   ]
  },
  {
   "cell_type": "code",
   "execution_count": 8,
   "metadata": {
    "scrolled": true
   },
   "outputs": [
    {
     "data": {
      "text/html": [
       "<div>\n",
       "<style scoped>\n",
       "    .dataframe tbody tr th:only-of-type {\n",
       "        vertical-align: middle;\n",
       "    }\n",
       "\n",
       "    .dataframe tbody tr th {\n",
       "        vertical-align: top;\n",
       "    }\n",
       "\n",
       "    .dataframe thead th {\n",
       "        text-align: right;\n",
       "    }\n",
       "</style>\n",
       "<table border=\"1\" class=\"dataframe\">\n",
       "  <thead>\n",
       "    <tr style=\"text-align: right;\">\n",
       "      <th></th>\n",
       "      <th>PatientId</th>\n",
       "      <th>AppointmentID</th>\n",
       "      <th>Gender</th>\n",
       "      <th>Age</th>\n",
       "      <th>Scholarship</th>\n",
       "      <th>Hipertension</th>\n",
       "      <th>Diabetes</th>\n",
       "      <th>Alcoholism</th>\n",
       "      <th>Handcap</th>\n",
       "      <th>SMS_received</th>\n",
       "      <th>Show</th>\n",
       "    </tr>\n",
       "  </thead>\n",
       "  <tbody>\n",
       "    <tr>\n",
       "      <th>count</th>\n",
       "      <td>1.092230e+05</td>\n",
       "      <td>1.092230e+05</td>\n",
       "      <td>109223.000000</td>\n",
       "      <td>109223.000000</td>\n",
       "      <td>109223.000000</td>\n",
       "      <td>109223.000000</td>\n",
       "      <td>109223.000000</td>\n",
       "      <td>109223.000000</td>\n",
       "      <td>109223.000000</td>\n",
       "      <td>109223.000000</td>\n",
       "      <td>109223.000000</td>\n",
       "    </tr>\n",
       "    <tr>\n",
       "      <th>mean</th>\n",
       "      <td>1.474287e+14</td>\n",
       "      <td>5.675271e+06</td>\n",
       "      <td>0.650229</td>\n",
       "      <td>37.070269</td>\n",
       "      <td>0.098239</td>\n",
       "      <td>0.196808</td>\n",
       "      <td>0.071615</td>\n",
       "      <td>0.030378</td>\n",
       "      <td>0.018568</td>\n",
       "      <td>0.321278</td>\n",
       "      <td>0.798110</td>\n",
       "    </tr>\n",
       "    <tr>\n",
       "      <th>std</th>\n",
       "      <td>2.560173e+14</td>\n",
       "      <td>7.132424e+04</td>\n",
       "      <td>0.476900</td>\n",
       "      <td>23.098548</td>\n",
       "      <td>0.297639</td>\n",
       "      <td>0.397588</td>\n",
       "      <td>0.257850</td>\n",
       "      <td>0.171626</td>\n",
       "      <td>0.134992</td>\n",
       "      <td>0.466970</td>\n",
       "      <td>0.401412</td>\n",
       "    </tr>\n",
       "    <tr>\n",
       "      <th>min</th>\n",
       "      <td>3.920000e+04</td>\n",
       "      <td>5.030230e+06</td>\n",
       "      <td>0.000000</td>\n",
       "      <td>0.000000</td>\n",
       "      <td>0.000000</td>\n",
       "      <td>0.000000</td>\n",
       "      <td>0.000000</td>\n",
       "      <td>0.000000</td>\n",
       "      <td>0.000000</td>\n",
       "      <td>0.000000</td>\n",
       "      <td>0.000000</td>\n",
       "    </tr>\n",
       "    <tr>\n",
       "      <th>25%</th>\n",
       "      <td>4.168390e+12</td>\n",
       "      <td>5.640247e+06</td>\n",
       "      <td>0.000000</td>\n",
       "      <td>18.000000</td>\n",
       "      <td>0.000000</td>\n",
       "      <td>0.000000</td>\n",
       "      <td>0.000000</td>\n",
       "      <td>0.000000</td>\n",
       "      <td>0.000000</td>\n",
       "      <td>0.000000</td>\n",
       "      <td>1.000000</td>\n",
       "    </tr>\n",
       "    <tr>\n",
       "      <th>50%</th>\n",
       "      <td>3.172460e+13</td>\n",
       "      <td>5.680534e+06</td>\n",
       "      <td>1.000000</td>\n",
       "      <td>37.000000</td>\n",
       "      <td>0.000000</td>\n",
       "      <td>0.000000</td>\n",
       "      <td>0.000000</td>\n",
       "      <td>0.000000</td>\n",
       "      <td>0.000000</td>\n",
       "      <td>0.000000</td>\n",
       "      <td>1.000000</td>\n",
       "    </tr>\n",
       "    <tr>\n",
       "      <th>75%</th>\n",
       "      <td>9.438360e+13</td>\n",
       "      <td>5.725500e+06</td>\n",
       "      <td>1.000000</td>\n",
       "      <td>55.000000</td>\n",
       "      <td>0.000000</td>\n",
       "      <td>0.000000</td>\n",
       "      <td>0.000000</td>\n",
       "      <td>0.000000</td>\n",
       "      <td>0.000000</td>\n",
       "      <td>1.000000</td>\n",
       "      <td>1.000000</td>\n",
       "    </tr>\n",
       "    <tr>\n",
       "      <th>max</th>\n",
       "      <td>9.999820e+14</td>\n",
       "      <td>5.790484e+06</td>\n",
       "      <td>1.000000</td>\n",
       "      <td>115.000000</td>\n",
       "      <td>1.000000</td>\n",
       "      <td>1.000000</td>\n",
       "      <td>1.000000</td>\n",
       "      <td>1.000000</td>\n",
       "      <td>1.000000</td>\n",
       "      <td>1.000000</td>\n",
       "      <td>1.000000</td>\n",
       "    </tr>\n",
       "  </tbody>\n",
       "</table>\n",
       "</div>"
      ],
      "text/plain": [
       "          PatientId  AppointmentID         Gender            Age  \\\n",
       "count  1.092230e+05   1.092230e+05  109223.000000  109223.000000   \n",
       "mean   1.474287e+14   5.675271e+06       0.650229      37.070269   \n",
       "std    2.560173e+14   7.132424e+04       0.476900      23.098548   \n",
       "min    3.920000e+04   5.030230e+06       0.000000       0.000000   \n",
       "25%    4.168390e+12   5.640247e+06       0.000000      18.000000   \n",
       "50%    3.172460e+13   5.680534e+06       1.000000      37.000000   \n",
       "75%    9.438360e+13   5.725500e+06       1.000000      55.000000   \n",
       "max    9.999820e+14   5.790484e+06       1.000000     115.000000   \n",
       "\n",
       "         Scholarship   Hipertension       Diabetes     Alcoholism  \\\n",
       "count  109223.000000  109223.000000  109223.000000  109223.000000   \n",
       "mean        0.098239       0.196808       0.071615       0.030378   \n",
       "std         0.297639       0.397588       0.257850       0.171626   \n",
       "min         0.000000       0.000000       0.000000       0.000000   \n",
       "25%         0.000000       0.000000       0.000000       0.000000   \n",
       "50%         0.000000       0.000000       0.000000       0.000000   \n",
       "75%         0.000000       0.000000       0.000000       0.000000   \n",
       "max         1.000000       1.000000       1.000000       1.000000   \n",
       "\n",
       "             Handcap   SMS_received           Show  \n",
       "count  109223.000000  109223.000000  109223.000000  \n",
       "mean        0.018568       0.321278       0.798110  \n",
       "std         0.134992       0.466970       0.401412  \n",
       "min         0.000000       0.000000       0.000000  \n",
       "25%         0.000000       0.000000       1.000000  \n",
       "50%         0.000000       0.000000       1.000000  \n",
       "75%         0.000000       1.000000       1.000000  \n",
       "max         1.000000       1.000000       1.000000  "
      ]
     },
     "execution_count": 8,
     "metadata": {},
     "output_type": "execute_result"
    }
   ],
   "source": [
    "df.describe()"
   ]
  },
  {
   "cell_type": "markdown",
   "metadata": {},
   "source": [
    "In the cleanted dataframe, it appears the average Show rate is about 80% across all patients. One point of interest for me is that there are significantly more women in the data than men (women are represented as 1's, and the `df.Gender` mean is 0.65)."
   ]
  },
  {
   "cell_type": "markdown",
   "metadata": {},
   "source": [
    "<a id='eda'></a>\n",
    "## Data Analysis\n",
    "\n",
    "In this section I attempt to identify the patient characteristics that are associated with \"Show\" behavior.\n",
    "\n",
    "### Which Variables are Most Strongly Correlated to Attendance?"
   ]
  },
  {
   "cell_type": "markdown",
   "metadata": {},
   "source": [
    "Given that the majority of the data exist as 1's and 0's, it may be helpful to do an appropriate correlation analysis. Below, the Pearson correlation coefficient is calculated for all patient charactistics (excluding \"Neigbourhood\", \"PatientID\", and the datetime columns) with respect to the \"Show\" observation."
   ]
  },
  {
   "cell_type": "code",
   "execution_count": 9,
   "metadata": {
    "scrolled": false
   },
   "outputs": [
    {
     "data": {
      "text/html": [
       "<div>\n",
       "<style scoped>\n",
       "    .dataframe tbody tr th:only-of-type {\n",
       "        vertical-align: middle;\n",
       "    }\n",
       "\n",
       "    .dataframe tbody tr th {\n",
       "        vertical-align: top;\n",
       "    }\n",
       "\n",
       "    .dataframe thead th {\n",
       "        text-align: right;\n",
       "    }\n",
       "</style>\n",
       "<table border=\"1\" class=\"dataframe\">\n",
       "  <thead>\n",
       "    <tr style=\"text-align: right;\">\n",
       "      <th></th>\n",
       "      <th>Parameters</th>\n",
       "      <th>\"Show\" Correlation Coefficient</th>\n",
       "    </tr>\n",
       "  </thead>\n",
       "  <tbody>\n",
       "    <tr>\n",
       "      <th>0</th>\n",
       "      <td>Show</td>\n",
       "      <td>1.000000</td>\n",
       "    </tr>\n",
       "    <tr>\n",
       "      <th>1</th>\n",
       "      <td>SMS_received</td>\n",
       "      <td>-0.127213</td>\n",
       "    </tr>\n",
       "    <tr>\n",
       "      <th>2</th>\n",
       "      <td>Age</td>\n",
       "      <td>0.060716</td>\n",
       "    </tr>\n",
       "    <tr>\n",
       "      <th>3</th>\n",
       "      <td>Hipertension</td>\n",
       "      <td>0.036131</td>\n",
       "    </tr>\n",
       "    <tr>\n",
       "      <th>4</th>\n",
       "      <td>Scholarship</td>\n",
       "      <td>-0.029405</td>\n",
       "    </tr>\n",
       "    <tr>\n",
       "      <th>5</th>\n",
       "      <td>Diabetes</td>\n",
       "      <td>0.015142</td>\n",
       "    </tr>\n",
       "    <tr>\n",
       "      <th>6</th>\n",
       "      <td>Handcap</td>\n",
       "      <td>0.007676</td>\n",
       "    </tr>\n",
       "    <tr>\n",
       "      <th>7</th>\n",
       "      <td>Gender</td>\n",
       "      <td>-0.003912</td>\n",
       "    </tr>\n",
       "    <tr>\n",
       "      <th>8</th>\n",
       "      <td>Alcoholism</td>\n",
       "      <td>-0.000150</td>\n",
       "    </tr>\n",
       "  </tbody>\n",
       "</table>\n",
       "</div>"
      ],
      "text/plain": [
       "     Parameters  \"Show\" Correlation Coefficient\n",
       "0          Show                        1.000000\n",
       "1  SMS_received                       -0.127213\n",
       "2           Age                        0.060716\n",
       "3  Hipertension                        0.036131\n",
       "4   Scholarship                       -0.029405\n",
       "5      Diabetes                        0.015142\n",
       "6       Handcap                        0.007676\n",
       "7        Gender                       -0.003912\n",
       "8    Alcoholism                       -0.000150"
      ]
     },
     "execution_count": 9,
     "metadata": {},
     "output_type": "execute_result"
    }
   ],
   "source": [
    "temp = dfb.corr().loc[\"Show\"].reset_index().copy();\n",
    "show_corr = temp.iloc[temp.Show.abs().argsort()].iloc[::-1].copy();\n",
    "show_corr.rename(columns={\"index\": \"Parameters\", \"Show\": \"\\\"Show\\\" Correlation Coefficient\"}, inplace = True);\n",
    "show_corr.reset_index(drop=True, inplace = True);\n",
    "\n",
    "#New table with correlation coefficients sorted by absolute value\n",
    "show_corr"
   ]
  },
  {
   "cell_type": "code",
   "execution_count": 10,
   "metadata": {},
   "outputs": [],
   "source": [
    "## Determinig statistical significance\n",
    "import scipy\n",
    "\n",
    "t=[]\n",
    "for column in dfb.columns:\n",
    "    t.append(scipy.stats.pearsonr(df.Show, df[column]))\n",
    "\n",
    "## For alpha = 0.01, Columns \"Handcap\",\"Gender\", and \"Alcoholism\" are not significant"
   ]
  },
  {
   "cell_type": "markdown",
   "metadata": {},
   "source": [
    "> For alpha = 0.01, a statistical test was applied. Columns \"Handcap\",\"Gender\", and \"Alcoholism\" are not significant."
   ]
  },
  {
   "cell_type": "markdown",
   "metadata": {},
   "source": [
    "My first observation is that no coefficient appears to be highly correlated with Show. How unfortunate! Second, \"SMS-received\" is negatively correlated, which doesn't seem like that should be the case. If a patient receives a text reminder, I would expect for their show rate to increase, not the opposite. I will investigate this further, especially given that it has the highest coefficient value.\n",
    "\n",
    "As an initial look at `df.SMS_received`, I want to check how the values are distributed accross the set. Perhaps there is something I missed in the initial data cleaning. The figure below plots the observation of `df.SMS_recieved == 1` and `df.SMS_recieved == 0` as function of patient's appointment dates along the x axis. Each point represents 1 patient, and whether they received a text message or not. Even if there is not an equal number of 1's and 0's (there won't be) the plot should still be relatively continuous, given the total number of entries available. "
   ]
  },
  {
   "cell_type": "code",
   "execution_count": 11,
   "metadata": {},
   "outputs": [
    {
     "data": {
      "image/png": "[encoded data removed]",
      "text/plain": [
       "<matplotlib.figure.Figure at 0x7f82164229b0>"
      ]
     },
     "metadata": {},
     "output_type": "display_data"
    }
   ],
   "source": [
    "fig1, ax = plt.subplots(1,1, figsize=(15,1))\n",
    "\n",
    "x1 = df.sort_values('AppointmentDay',ascending=True).AppointmentDay.reset_index(drop=True).reset_index().index.values\n",
    "y1 = df.sort_values('AppointmentDay',ascending=True).SMS_received.reset_index(drop = True).values\n",
    "ax.set_xticklabels(['0','2016-04-29','2016-05-05','2016-05-12','2016-05-19','2016-05-31','2016-06-06'], rotation = 45)\n",
    "ax.set_yticklabels(['','No (0)','Yes (1)'])\n",
    "ax.set_ylabel('SMS\\nReceived\\nby Patient', rotation = 0, labelpad = 50)\n",
    "ax.set_ylim([-.5,1.5])\n",
    "\n",
    "ax.scatter(x1, y1, marker = '.', s = 5 )\n",
    "\n",
    "plt.style.use('seaborn-dark')\n",
    "plt.show()"
   ]
  },
  {
   "cell_type": "markdown",
   "metadata": {},
   "source": [
    "From the plot, I see two gaps where the data is not continuous. For these regions, either the no patient was sent an SMS, or there was some error in the data entry. I will keep note of this, and see what affect if any it has on the results.\n",
    "\n",
    "Next, I check the other variables to see if there are similar anomolies. Below are their plots, and they all appear to be continuous."
   ]
  },
  {
   "cell_type": "code",
   "execution_count": 12,
   "metadata": {
    "scrolled": false
   },
   "outputs": [
    {
     "data": {
      "image/png": "[encoded data removed]",
      "text/plain": [
       "<matplotlib.figure.Figure at 0x7f8216193128>"
      ]
     },
     "metadata": {},
     "output_type": "display_data"
    }
   ],
   "source": [
    "fig11, (ax1,ax2,ax3,ax4,ax5,ax6) = plt.subplots(6,1, figsize=(15,6))\n",
    "\n",
    "y11 = df.sort_values('AppointmentDay',ascending=True).Hipertension.reset_index(drop = True).values\n",
    "ax1.set_xticklabels([])\n",
    "ax1.set_yticklabels(['0','No','Yes'])\n",
    "ax1.set_ylabel('Hipertension', rotation = 0, labelpad = 50)\n",
    "ax1.set_ylim([-.5,1.5])\n",
    "ax1.scatter(x1, y11, marker = '.', s = 5 )\n",
    "\n",
    "\n",
    "y12 = df.sort_values('AppointmentDay',ascending=True).Scholarship.reset_index(drop = True).values\n",
    "ax2.set_xticklabels([])\n",
    "ax2.set_yticklabels(['0','No','Yes'])\n",
    "ax2.set_ylabel('Scholarship', rotation = 0, labelpad = 50)\n",
    "ax2.set_ylim([-.5,1.5])\n",
    "ax2.scatter(x1, y12, marker = '.', s = 5 )\n",
    "\n",
    "y13 = df.sort_values('AppointmentDay',ascending=True).Diabetes.reset_index(drop = True).values\n",
    "ax3.set_xticklabels([])\n",
    "ax3.set_yticklabels(['0','No','Yes'])\n",
    "ax3.set_ylabel('Diabetes', rotation = 0, labelpad = 50)\n",
    "ax3.set_ylim([-.5,1.5])\n",
    "ax3.scatter(x1, y13, marker = '.', s = 5 )\n",
    "\n",
    "y14 = df.sort_values('AppointmentDay',ascending=True).Handcap.reset_index(drop = True).values\n",
    "ax4.set_xticklabels([])\n",
    "ax4.set_yticklabels(['0','No','Yes'])\n",
    "ax4.set_ylabel('Handcap', rotation = 0, labelpad = 50)\n",
    "ax4.set_ylim([-.5,1.5])\n",
    "ax4.scatter(x1, y14, marker = '.', s = 5 )\n",
    "\n",
    "y15 = df.sort_values('AppointmentDay',ascending=True).Gender.reset_index(drop = True).values\n",
    "ax5.set_xticklabels([])\n",
    "ax5.set_yticklabels(['0','No','Yes'])\n",
    "ax5.set_ylabel('Gender', rotation = 0, labelpad = 50)\n",
    "ax5.set_ylim([-.5,1.5])\n",
    "ax5.scatter(x1, y15, marker = '.', s = 5 )\n",
    "\n",
    "y16 = df.sort_values('AppointmentDay',ascending=True).Alcoholism.reset_index(drop = True).values\n",
    "ax6.set_xticklabels(['0','2016-04-29','2016-05-05','2016-05-12','2016-05-19','2016-05-31','2016-06-06'], rotation = 45)\n",
    "ax6.set_yticklabels(['0','No','Yes'])\n",
    "ax6.set_ylabel('Alcoholism', rotation = 0, labelpad = 50)\n",
    "ax6.set_ylim([-.5,1.5])\n",
    "ax6.scatter(x1, y16, marker = '.', s = 5 )\n",
    "\n",
    "plt.style.use('seaborn-dark')\n",
    "plt.show()"
   ]
  },
  {
   "cell_type": "markdown",
   "metadata": {},
   "source": [
    "Even with the missing data in `df.SMS_received`, the cause of the negative correlation is still not understood. Below, I slice the data across the time delta between the patients' data they scheduled their appointment and the date of their actual appointment."
   ]
  },
  {
   "cell_type": "code",
   "execution_count": 13,
   "metadata": {
    "scrolled": true
   },
   "outputs": [],
   "source": [
    "near_appt = df.drop(columns=[\"PatientId\",\"Gender\",\"Age\",\n",
    "                 \"Scholarship\",\"Hipertension\",\"Diabetes\",\n",
    "                 \"AppointmentID\", \"Alcoholism\", \"Handcap\",]).loc[abs(df.AppointmentDay-df.ScheduledDay) < \n",
    "                                                                pd.to_timedelta(3, unit='D')]\n",
    "far_appt = df.drop(columns=[\"PatientId\",\"Gender\",\"Age\",\n",
    "                 \"Scholarship\",\"Hipertension\",\"Diabetes\",\n",
    "                 \"AppointmentID\", \"Alcoholism\", \"Handcap\"]).loc[abs(df.AppointmentDay-df.ScheduledDay) > \n",
    "                                                                pd.to_timedelta(3, unit='D')]"
   ]
  },
  {
   "cell_type": "code",
   "execution_count": 14,
   "metadata": {},
   "outputs": [],
   "source": [
    "#df2 will represent the dataframe in which rows that appear to be within the range of no SMS/error data are removed.\n",
    "\n",
    "df2 = df.drop(df.index[23905:28371]).copy()\n",
    "df2.drop(df2.index[41368:66558], inplace = True)\n",
    "df2.reset_index(drop=True, inplace=True)\n",
    "\n",
    "near_appt2 = df2.drop(columns=[\"PatientId\",\"Gender\",\"Age\",\n",
    "                 \"Scholarship\",\"Hipertension\",\"Diabetes\",\n",
    "                 \"AppointmentID\", \"Alcoholism\", \"Handcap\",]).loc[abs(df2.AppointmentDay-df2.ScheduledDay) < \n",
    "                                                                pd.to_timedelta(3, unit='D')]\n",
    "far_appt2 = df2.drop(columns=[\"PatientId\",\"Gender\",\"Age\",\n",
    "                 \"Scholarship\",\"Hipertension\",\"Diabetes\",\n",
    "                 \"AppointmentID\", \"Alcoholism\", \"Handcap\"]).loc[abs(df2.AppointmentDay-df2.ScheduledDay) > \n",
    "                                                                pd.to_timedelta(3, unit='D')]"
   ]
  },
  {
   "cell_type": "code",
   "execution_count": 15,
   "metadata": {},
   "outputs": [
    {
     "data": {
      "text/html": [
       "<div>\n",
       "<style scoped>\n",
       "    .dataframe tbody tr th:only-of-type {\n",
       "        vertical-align: middle;\n",
       "    }\n",
       "\n",
       "    .dataframe tbody tr th {\n",
       "        vertical-align: top;\n",
       "    }\n",
       "\n",
       "    .dataframe thead th {\n",
       "        text-align: right;\n",
       "    }\n",
       "</style>\n",
       "<table border=\"1\" class=\"dataframe\">\n",
       "  <thead>\n",
       "    <tr style=\"text-align: right;\">\n",
       "      <th></th>\n",
       "      <th>Days &lt; 3</th>\n",
       "      <th>Days &gt; 3</th>\n",
       "    </tr>\n",
       "  </thead>\n",
       "  <tbody>\n",
       "    <tr>\n",
       "      <th>SMS_received</th>\n",
       "      <td>0.017001</td>\n",
       "      <td>0.603793</td>\n",
       "    </tr>\n",
       "    <tr>\n",
       "      <th>Show</th>\n",
       "      <td>0.903263</td>\n",
       "      <td>0.700478</td>\n",
       "    </tr>\n",
       "  </tbody>\n",
       "</table>\n",
       "</div>"
      ],
      "text/plain": [
       "              Days < 3  Days > 3\n",
       "SMS_received  0.017001  0.603793\n",
       "Show          0.903263  0.700478"
      ]
     },
     "execution_count": 15,
     "metadata": {},
     "output_type": "execute_result"
    }
   ],
   "source": [
    "pd.concat([near_appt.mean(),far_appt.mean()], axis=1, keys=['Days < 3', 'Days > 3'])"
   ]
  },
  {
   "cell_type": "markdown",
   "metadata": {},
   "source": [
    "Interesting! For patients who schedule their appointments within 3 days of the appointment date, the probability of them receiving a text message is almost zero. Unsurprisingly, the Show rate for these patients scheduling within the 3 day range is 20% higher than those who schedule their appointments further out. This sheds some light on where the negative correlation is coming from. Below, I use the same technique to trend the SMS rate and Show rate for a range of ScheduledDay-AppointmentDay time periods."
   ]
  },
  {
   "cell_type": "code",
   "execution_count": 16,
   "metadata": {},
   "outputs": [],
   "source": [
    "Day_Diff = []\n",
    "for index, row in df.iterrows():\n",
    "    Day_Diff.append(row.AppointmentDay-row.ScheduledDay)\n",
    "df.insert(5,'Day_Diff', Day_Diff)\n",
    "\n",
    "from numpy import array\n",
    "\n",
    "array = array([-1,0,1,2,3,5,10,20,30,60])\n",
    "count = 0\n",
    "delta = [0]*len(array)\n",
    "for x in array:\n",
    "    delta[count]=pd.to_timedelta(x, unit='D')\n",
    "    count = count + 1\n",
    "\n",
    "daydiff_bins = pd.cut(df.Day_Diff, bins=delta)\n",
    "daydiff_bins_show_sms = pd.concat([daydiff_bins, df.Show, df.SMS_received], axis=1)\n",
    "tbl = daydiff_bins_show_sms.groupby([\"Day_Diff\"]).mean().copy()"
   ]
  },
  {
   "cell_type": "code",
   "execution_count": 32,
   "metadata": {
    "scrolled": true
   },
   "outputs": [
    {
     "data": {
      "image/png": "[encoded data removed]",
      "text/plain": [
       "<matplotlib.figure.Figure at 0x7f8211404978>"
      ]
     },
     "metadata": {},
     "output_type": "display_data"
    }
   ],
   "source": [
    "from matplotlib.ticker import FormatStrFormatter\n",
    "fig2, ax1 = plt.subplots(1,1,figsize=(8,5))\n",
    "plt.style.use('seaborn')\n",
    "\n",
    "newarray = np.delete(array, 0)\n",
    "ax1.set_title('Show Rate and SMS Received Rate Correlation\\nas a Function of Days from Appointment Schedule Date', fontweight ='bold')\n",
    "ax1.set_xlim([0,15])\n",
    "ax1.set_xticklabels(['same-day\\nappointment', '2 days', '4 days', '6 days', '8 days', '10 days', '12 days', '14 days'])\n",
    "ax1.set_ylim([0.3, 1])\n",
    "ax1.set_yticks([0.4, 0.5, 0.6, 0.7, 0.8, 0.9, 1])\n",
    "ax1.set_yticklabels(['0.40', '0.50', '0.60', '0.70', '0.80', '0.90', '1.00'],color=palette[0])\n",
    "ax1.plot(newarray, tbl.Show.values, marker = 'o', linewidth=3, markersize = 2)\n",
    "\n",
    "ax2 = ax1.twinx() \n",
    "ax2.set_ylim([0, 0.7])\n",
    "ax2.set_yticks([0.1, 0.2, 0.3, 0.4, 0.5, 0.6, .7])\n",
    "ax2.set_yticklabels(['0.10', '0.20', '0.30', '0.40', '0.50', '0.60', '0.70'],color=palette[2])\n",
    "ax2.plot(newarray, tbl.SMS_received.values, marker = 'o', linewidth=3, markersize = 2, color = palette[2])\n",
    "\n",
    "ax1.text(6.8, .765, 'show rate', color = palette[0], rotation = -3.8, fontweight='bold' )\n",
    "ax2.text(6.8, .63, 'SMS received rate', color = palette[2], rotation = 1.9, fontweight='bold' )\n",
    "\n",
    "fig2.tight_layout()\n",
    "plt.style.use('seaborn')\n",
    "plt.show()"
   ]
  },
  {
   "cell_type": "markdown",
   "metadata": {},
   "source": [
    "It appears that the doctor's officies begin sending text messages around the 3 day mark, and their patients receive the messages at a relatively constant rate of 0.60 after the 5 day mark. Because the show rate continues to decrease, the negative correlation between `df.SMS_revceived` and `df.Show` is observed. \n",
    "\n",
    "I want to see the effect of SMS messages when the rate of them being received is constant. If the text reminders are effective, there should be an increase in show rate for those who receive the message and those who do not. In the figure below, I also include the \"cleaned\" SMS results, i.e. a separate dataframe where the regions of unexpected 0's are removed."
   ]
  },
  {
   "cell_type": "code",
   "execution_count": 18,
   "metadata": {
    "scrolled": true
   },
   "outputs": [
    {
     "data": {
      "image/png": "[encoded data removed]",
      "text/plain": [
       "<matplotlib.figure.Figure at 0x7f8216365ef0>"
      ]
     },
     "metadata": {},
     "output_type": "display_data"
    }
   ],
   "source": [
    "from matplotlib.ticker import FormatStrFormatter #needed to set decimal place of axis labels\n",
    "fig3, ax3 = plt.subplots(1,1,figsize=(8,5))\n",
    "\n",
    "#temporary variables\n",
    "width = .2\n",
    "width2 = .075\n",
    "x2=np.array([1,1.6,1.9])\n",
    "\n",
    "ax3.set_title('Average Show Rate for all Appointments Scheduled.\\nGrouped by SMS and Days from Appointment Date', fontweight = 'bold')\n",
    "ax3.set_ylim([0.6, 1])\n",
    "ax3.set_yticks([0.65,0.7,0.75,0.8,0.85,0.9,0.95,1])\n",
    "ax3.yaxis.set_major_formatter(FormatStrFormatter('%.2f'))\n",
    "ax3.set_xticks([1.3])\n",
    "ax3.set_xticklabels(['Day 3'], fontsize = 15)\n",
    "ax3.tick_params(axis='x', direction = 'inout', length = 12, width = 2)\n",
    "ax3.bar(x2, [near_appt.loc[df.SMS_received==0].Show.mean(), \n",
    "                                 far_appt.groupby(\"SMS_received\").mean().iloc[0].item(),\n",
    "                                 far_appt.groupby(\"SMS_received\").mean().iloc[1].item()], width)\n",
    "ax3.bar(x2+width/2, [near_appt2.loc[df2.SMS_received==0].Show.mean(), \n",
    "                                 far_appt2.groupby(\"SMS_received\").mean().iloc[0].item(),\n",
    "                                 far_appt2.groupby(\"SMS_received\").mean().iloc[1].item()], width2, color = palette2[0])\n",
    "ax3.text(.95,.92, 'SMS not\\nreceived', color = 'black')\n",
    "ax3.text(1.55,.68, 'SMS not\\nrecieved', color = 'black')\n",
    "ax3.text(1.82,.735, 'SMS received', color = 'black')\n",
    "\n",
    "#Defining legend here\n",
    "colors = {'original data':palette[0], 'cleaned data':palette2[0]}         \n",
    "labels = list(colors.keys())\n",
    "handles = [plt.Rectangle((0,0),1,1, color=colors[label]) for label in labels]\n",
    "ax3.legend(handles, labels)\n",
    "\n",
    "fig3.tight_layout()\n",
    "plt.style.use('seaborn')\n",
    "plt.show()"
   ]
  },
  {
   "cell_type": "markdown",
   "metadata": {},
   "source": [
    "When the doctor's offices send reminder text messages at a more contant rate, it appears that the show rate is about 5% higher for patients. This positively correlated behavior is what I would expect. One interesting note is that the cleaned data does not really affect the overall result in this case. \n",
    "\n",
    "The next hightest-correlated patient factor was age. I will group the data by age to see if there is more information that can be determined."
   ]
  },
  {
   "cell_type": "code",
   "execution_count": 19,
   "metadata": {},
   "outputs": [],
   "source": [
    "age_bins = pd.cut(df.Age, bins=[0, 5, 20, 35, 50, 65, 80, 95, 115])\n",
    "age_bins_show = pd.concat([age_bins, df.Show], axis=1)\n",
    "tbl2 = age_bins_show.groupby([\"Age\"]).mean().T"
   ]
  },
  {
   "cell_type": "code",
   "execution_count": 20,
   "metadata": {
    "scrolled": false
   },
   "outputs": [
    {
     "data": {
      "image/png": "[encoded data removed]",
      "text/plain": [
       "<matplotlib.figure.Figure at 0x7f821597aa20>"
      ]
     },
     "metadata": {},
     "output_type": "display_data"
    }
   ],
   "source": [
    "fig4, ax4 = plt.subplots(1,1,figsize=(8,5))\n",
    "\n",
    "#temporary vairbles\n",
    "plotx = tbl2.T.reset_index()\n",
    "count=1\n",
    "\n",
    "ax4.set_title('Show Rate by Patient Age', fontweight= 'bold')\n",
    "ax4.set_ylim([0.7, .9])\n",
    "ax4.set_yticklabels('')\n",
    "ax4.set_xticklabels(['','(0, 5]', '(5, 20]', '(20, 35]', '(35, 50]', '(50, 65]', '(65, 80]', '(80, 95]', '(95, 115]'], rotation = 30)\n",
    "ax4.set_xlabel('Patient Age in Years', labelpad = 20)\n",
    "ax4.grid(True)\n",
    "ax4.bar(plotx.index.values, tbl2.T.Show.values, color = palette[0])\n",
    "\n",
    "#writing text labels\n",
    "for x in range(len(tbl2.T)):\n",
    "    ax4.text(x-.23, tbl2[count].round(decimals=3).item()- 0.015, str(tbl2[count].round(decimals=3).item()).strip('0'), fontsize = 12, fontweight = 'bold', color = 'white')\n",
    "    count = count + 15 #because groupby keeps all entried when referencing the object. Weird!   \n",
    "\n",
    "plt.style.use('seaborn')\n",
    "plt.show()"
   ]
  },
  {
   "cell_type": "markdown",
   "metadata": {},
   "source": [
    "After age (0,5] , the Show rate increases through age (65,80] before appearing to plateau or perhaps slightly drop off. For a patient in the (65,80] age group, their Show rate is almost 10% higher than for those in the (5,20] group."
   ]
  },
  {
   "cell_type": "code",
   "execution_count": 21,
   "metadata": {
    "scrolled": false
   },
   "outputs": [
    {
     "data": {
      "text/html": [
       "<div>\n",
       "<style scoped>\n",
       "    .dataframe tbody tr th:only-of-type {\n",
       "        vertical-align: middle;\n",
       "    }\n",
       "\n",
       "    .dataframe tbody tr th {\n",
       "        vertical-align: top;\n",
       "    }\n",
       "\n",
       "    .dataframe thead th {\n",
       "        text-align: right;\n",
       "    }\n",
       "</style>\n",
       "<table border=\"1\" class=\"dataframe\">\n",
       "  <thead>\n",
       "    <tr style=\"text-align: right;\">\n",
       "      <th></th>\n",
       "      <th>Parameters</th>\n",
       "      <th>\"Age\" Correlation Coefficient</th>\n",
       "    </tr>\n",
       "  </thead>\n",
       "  <tbody>\n",
       "    <tr>\n",
       "      <th>0</th>\n",
       "      <td>Age</td>\n",
       "      <td>1.000000</td>\n",
       "    </tr>\n",
       "    <tr>\n",
       "      <th>1</th>\n",
       "      <td>Hipertension</td>\n",
       "      <td>0.503719</td>\n",
       "    </tr>\n",
       "    <tr>\n",
       "      <th>2</th>\n",
       "      <td>Diabetes</td>\n",
       "      <td>0.291674</td>\n",
       "    </tr>\n",
       "    <tr>\n",
       "      <th>3</th>\n",
       "      <td>Gender</td>\n",
       "      <td>0.106726</td>\n",
       "    </tr>\n",
       "    <tr>\n",
       "      <th>4</th>\n",
       "      <td>Alcoholism</td>\n",
       "      <td>0.095470</td>\n",
       "    </tr>\n",
       "    <tr>\n",
       "      <th>5</th>\n",
       "      <td>Scholarship</td>\n",
       "      <td>-0.092073</td>\n",
       "    </tr>\n",
       "    <tr>\n",
       "      <th>6</th>\n",
       "      <td>Handcap</td>\n",
       "      <td>0.082138</td>\n",
       "    </tr>\n",
       "    <tr>\n",
       "      <th>7</th>\n",
       "      <td>Show</td>\n",
       "      <td>0.060716</td>\n",
       "    </tr>\n",
       "    <tr>\n",
       "      <th>8</th>\n",
       "      <td>SMS_received</td>\n",
       "      <td>0.012895</td>\n",
       "    </tr>\n",
       "  </tbody>\n",
       "</table>\n",
       "</div>"
      ],
      "text/plain": [
       "     Parameters  \"Age\" Correlation Coefficient\n",
       "0           Age                       1.000000\n",
       "1  Hipertension                       0.503719\n",
       "2      Diabetes                       0.291674\n",
       "3        Gender                       0.106726\n",
       "4    Alcoholism                       0.095470\n",
       "5   Scholarship                      -0.092073\n",
       "6       Handcap                       0.082138\n",
       "7          Show                       0.060716\n",
       "8  SMS_received                       0.012895"
      ]
     },
     "execution_count": 21,
     "metadata": {},
     "output_type": "execute_result"
    }
   ],
   "source": [
    "temp = dfb.corr().loc[\"Age\"].reset_index().copy();\n",
    "age_corr = temp.iloc[temp.Age.abs().argsort()].iloc[::-1].copy();\n",
    "age_corr.rename(columns={\"index\": \"Parameters\", \"Age\": \"\\\"Age\\\" Correlation Coefficient\"}, inplace = True);\n",
    "age_corr.reset_index(drop=True, inplace = True);\n",
    "age_corr"
   ]
  },
  {
   "cell_type": "code",
   "execution_count": 22,
   "metadata": {},
   "outputs": [],
   "source": [
    "age_bins_all = pd.concat([age_bins, df.Hipertension, df.Diabetes, df.Gender, df.Alcoholism], axis=1)"
   ]
  },
  {
   "cell_type": "code",
   "execution_count": 23,
   "metadata": {},
   "outputs": [
    {
     "data": {
      "image/png": "[encoded data removed]",
      "text/plain": [
       "<matplotlib.figure.Figure at 0x7f82158cd9b0>"
      ]
     },
     "metadata": {},
     "output_type": "display_data"
    }
   ],
   "source": [
    "fig5, ax5 = plt.subplots(1,1, figsize=(8,5))\n",
    "\n",
    "ax5.set_title('Average Change in Rate of Occurence for Selected Patient Factors', fontweight= 'bold')\n",
    "ax5.set_xlabel('Patient Age in Years')\n",
    "ax5.set_xticklabels(['0','5','20','35','50','65','80', '95', '115'])\n",
    "ax5.set_ylabel('Occurence Rate Change', labelpad = 20, rotation = -90)\n",
    "ax5.yaxis.set_major_formatter(FormatStrFormatter('+%.2f'))\n",
    "ax5.yaxis.set_label_position(\"right\")\n",
    "ax5.yaxis.tick_right()\n",
    "ax5.plot(age_bins_all.groupby([\"Age\"]).mean().Hipertension.values, linewidth=3)\n",
    "ax5.plot(age_bins_all.groupby([\"Age\"]).mean().Diabetes.values, linewidth=3)\n",
    "ax5.plot(age_bins_all.groupby([\"Age\"]).mean().Gender.values-.474, linewidth=3)\n",
    "ax5.plot(age_bins_all.groupby([\"Age\"]).mean().Alcoholism.values, linewidth=3)\n",
    "\n",
    "#Defining legend here\n",
    "colors = {'Hipertension':palette[0], 'Diabetes':palette[2], 'Gender':palette[3],'Alcoholism':palette[4], }  \n",
    "labels = list(colors.keys())\n",
    "handles = [plt.Rectangle((0,0),1,1, color=colors[label]) for label in labels]\n",
    "ax5.legend(handles, labels)\n",
    "\n",
    "plt.show()"
   ]
  },
  {
   "cell_type": "markdown",
   "metadata": {},
   "source": [
    "The table and figure above show that a few of the patient factors are stongly correlated with Age. This makes sense, and suggests that a patient's age can be a proxy for these other factors when determining Show rate. \n",
    "\n",
    "In the figure, I find it interesting how the share of women showing up to appointments increases with age. "
   ]
  },
  {
   "cell_type": "code",
   "execution_count": 24,
   "metadata": {
    "scrolled": false
   },
   "outputs": [
    {
     "data": {
      "text/html": [
       "<div>\n",
       "<style scoped>\n",
       "    .dataframe tbody tr th:only-of-type {\n",
       "        vertical-align: middle;\n",
       "    }\n",
       "\n",
       "    .dataframe tbody tr th {\n",
       "        vertical-align: top;\n",
       "    }\n",
       "\n",
       "    .dataframe thead th {\n",
       "        text-align: right;\n",
       "    }\n",
       "</style>\n",
       "<table border=\"1\" class=\"dataframe\">\n",
       "  <thead>\n",
       "    <tr style=\"text-align: right;\">\n",
       "      <th></th>\n",
       "      <th>Parameters</th>\n",
       "      <th>\"Show\" Correlation Coefficient</th>\n",
       "    </tr>\n",
       "  </thead>\n",
       "  <tbody>\n",
       "    <tr>\n",
       "      <th>0</th>\n",
       "      <td>Show</td>\n",
       "      <td>1.000000</td>\n",
       "    </tr>\n",
       "    <tr>\n",
       "      <th>1</th>\n",
       "      <td>SMS_received</td>\n",
       "      <td>-0.127213</td>\n",
       "    </tr>\n",
       "    <tr>\n",
       "      <th>2</th>\n",
       "      <td>Age</td>\n",
       "      <td>0.060716</td>\n",
       "    </tr>\n",
       "    <tr>\n",
       "      <th>3</th>\n",
       "      <td>Hipertension</td>\n",
       "      <td>0.036131</td>\n",
       "    </tr>\n",
       "    <tr>\n",
       "      <th>4</th>\n",
       "      <td>Scholarship</td>\n",
       "      <td>-0.029405</td>\n",
       "    </tr>\n",
       "    <tr>\n",
       "      <th>5</th>\n",
       "      <td>Diabetes</td>\n",
       "      <td>0.015142</td>\n",
       "    </tr>\n",
       "    <tr>\n",
       "      <th>6</th>\n",
       "      <td>Handcap</td>\n",
       "      <td>0.007676</td>\n",
       "    </tr>\n",
       "    <tr>\n",
       "      <th>7</th>\n",
       "      <td>Gender</td>\n",
       "      <td>-0.003912</td>\n",
       "    </tr>\n",
       "    <tr>\n",
       "      <th>8</th>\n",
       "      <td>Alcoholism</td>\n",
       "      <td>-0.000150</td>\n",
       "    </tr>\n",
       "  </tbody>\n",
       "</table>\n",
       "</div>"
      ],
      "text/plain": [
       "     Parameters  \"Show\" Correlation Coefficient\n",
       "0          Show                        1.000000\n",
       "1  SMS_received                       -0.127213\n",
       "2           Age                        0.060716\n",
       "3  Hipertension                        0.036131\n",
       "4   Scholarship                       -0.029405\n",
       "5      Diabetes                        0.015142\n",
       "6       Handcap                        0.007676\n",
       "7        Gender                       -0.003912\n",
       "8    Alcoholism                       -0.000150"
      ]
     },
     "execution_count": 24,
     "metadata": {},
     "output_type": "execute_result"
    }
   ],
   "source": [
    "show_corr"
   ]
  },
  {
   "cell_type": "markdown",
   "metadata": {},
   "source": [
    "Returning to the original correlation table above, I have collected a more detailed understanding of SMS_received, Age, and Hipertension+Diabetes (which are correlated with Age), which make up the top 5 indicators. Lastly, I will look at Scholarship status. "
   ]
  },
  {
   "cell_type": "code",
   "execution_count": 25,
   "metadata": {
    "scrolled": false
   },
   "outputs": [
    {
     "data": {
      "image/png": "[encoded data removed]",
      "text/plain": [
       "<matplotlib.figure.Figure at 0x7f82114c7240>"
      ]
     },
     "metadata": {},
     "output_type": "display_data"
    }
   ],
   "source": [
    "fig6, ax6 = plt.subplots(figsize = (8,5))\n",
    "\n",
    "#temp variable\n",
    "width3 = .5\n",
    "\n",
    "ax6.set_title('Show Rate as a Function of Scholarship Status', fontweight = 'bold')\n",
    "ax6.set_ylim([0.6, 1])\n",
    "ax6.set_xticks([-.5,0,.5,1,1.5])\n",
    "ax6.set_yticklabels('')\n",
    "ax6.set_xticklabels(['','no scholarship','','scholarship',''])\n",
    "ax6.set_ylabel('')\n",
    "ax6.bar(df.groupby([\"Scholarship\"]).Show.mean().index.values,df.groupby([\"Scholarship\"]).Show.mean().values, width3)\n",
    "\n",
    "ax6.text(-.078,df.groupby([\"Scholarship\"]).Show.mean().values[0]-0.04,str(df.groupby([\"Scholarship\"]).Show.mean().round(decimals = 3).values[0]), fontweight = 'bold', fontsize = 15, color = 'white')\n",
    "ax6.text(1-.078,df.groupby([\"Scholarship\"]).Show.mean().values[1]-0.04,str(df.groupby([\"Scholarship\"]).Show.mean().round(decimals = 3).values[1]), fontweight = 'bold', fontsize = 15, color = 'white')\n",
    "ax6.grid(True)\n",
    "\n",
    "plt.style.use('seaborn')"
   ]
  },
  {
   "cell_type": "markdown",
   "metadata": {},
   "source": [
    "The Show rate is 4% lower for those who are on government assistance. There are a range of factors as to why this is the case, but give the available data, I'm not sure if there is more I can investigate. Since the patients' neighbourhood information in given, it would be helpful if there were information their distance from the doctor's offices or information on with neighbourhoods were closer together than others, to see if their was some relationship with Show rate."
   ]
  },
  {
   "cell_type": "markdown",
   "metadata": {},
   "source": [
    "### Given a Patient Profile, Can Attendance be Predicted?"
   ]
  },
  {
   "cell_type": "markdown",
   "metadata": {},
   "source": [
    "From the start, it was apparent that a majority of patients attend their appointments. Even when the data was sliced in different ways, the trend did not have any huge swings. This is obviously good news, but it's not too helpful when trying to make a prediction, especially for an individual patient.\n",
    "\n",
    "One thing that I think can be done though is to predict the number Shows/No-Shows across a group of patients, with a limited number of inputs. For example, if a doctor's office has a number appointments a week out, can the number of shows be estimated? If so, that information may be helpful for stocking supplies, staffing, or related logistical planning."
   ]
  },
  {
   "cell_type": "code",
   "execution_count": 26,
   "metadata": {
    "scrolled": false
   },
   "outputs": [
    {
     "data": {
      "text/plain": [
       "(139, 14)"
      ]
     },
     "execution_count": 26,
     "metadata": {},
     "output_type": "execute_result"
    }
   ],
   "source": [
    "#df_test represents all entries within the df_random that can be considered \"a week out\" from their schedule date.\n",
    "df_test = df_random.loc[abs(df_random.AppointmentDay-df_random.ScheduledDay) >= pd.to_timedelta(7, unit='D')].copy()\n",
    "df_test = df_test.loc[abs(df_random.AppointmentDay-df_random.ScheduledDay) < pd.to_timedelta(15, unit='D')]\n",
    "df_test.reset_index(drop=True, inplace = True)\n",
    "df_test.shape #check how many rows there are to work with"
   ]
  },
  {
   "cell_type": "code",
   "execution_count": 27,
   "metadata": {},
   "outputs": [],
   "source": [
    "tempdf = df.loc[abs(df.AppointmentDay-df.ScheduledDay) >= pd.to_timedelta(7, unit='D')].copy()\n",
    "tempdf = tempdf.loc[abs(df.AppointmentDay-df.ScheduledDay) < pd.to_timedelta(15, unit='D')]\n",
    "\n",
    "age_bins2 = pd.cut(tempdf.Age, bins = 15)\n",
    "age_bins_show2 = pd.concat([age_bins2, tempdf.Show], axis=1)\n",
    "age_rate_table = age_bins_show2.groupby([\"Age\"]).mean()\n",
    "age_rate_table.reset_index(drop=False, inplace=True)"
   ]
  },
  {
   "cell_type": "markdown",
   "metadata": {},
   "source": [
    "In the code above, I prepare a new dataframe `age_rate_table`. This table contains two columns, the first age ranges (interval datatype) taken from the original `df`, and the second column is the matching mean Show rate for each of those age ranges.\n",
    "\n",
    "With this information, I can create a function that predicts the mean Show rate for a group of patients in the df_test datatframe. I plan to use only three inputs to make the prediction: the patient's age, their scholarship status, and whether they received an SMS message. I chose these three becuase they were the highest statistically significant correlations that do appear to strongly correlate with each other. They are not perfectly independent, but perhaps they can be treated as such to make predictions. Indepedent variables can have their rates can be summed. This what I do in the function below-- first a \"base\" rate is found via the patients' age, then depending on their SMS/Scholarship status, the base value is biased. The biases, `r_schol` and `r_sms`, represent the average change in the Show rate with respect to Scholarship and SMS as determined in the preceding analysis."
   ]
  },
  {
   "cell_type": "code",
   "execution_count": 28,
   "metadata": {},
   "outputs": [],
   "source": [
    "def compare(case):\n",
    "    \n",
    "    rsum = []\n",
    "    r_schol = lambda i : -0.040 if case.Scholarship[i] == 1 else 0\n",
    "    r_sms = lambda i : 0.053 if case.SMS_received[i] == 1 else 0\n",
    "    r_age = 0\n",
    "    match = False\n",
    "    total = len(case)\n",
    "    \n",
    "    for i in case.index:\n",
    "        counter = 0\n",
    "        while match is False:\n",
    "            r_age = age_rate_table.iloc[counter,1]\n",
    "            match = case.Age[i] in age_rate_table.iloc[counter,0]\n",
    "            counter += 1\n",
    "        rsum.append(r_schol(i)+r_sms(i)+r_age)\n",
    "    rsum_array = np.array(rsum)\n",
    "    pmean = rsum_array.mean()\n",
    "    pshows = pmean*total\n",
    "    \n",
    "    ashows = case[case.Show==1].Show.count()\n",
    "    amean = ashows/total\n",
    "    \n",
    "    result = pd.DataFrame({'Total Appts': [total,total, '--'], 'Total Shows': [pshows,ashows,abs(pshows-ashows)], 'Mean Show rate': [pmean,amean, abs(pmean-amean)]}, index = ['Predicted', 'Actual', 'Diffence'])\n",
    "    display(result)"
   ]
  },
  {
   "cell_type": "markdown",
   "metadata": {},
   "source": [
    "Now, `df_test` is divided into three subsets for testing."
   ]
  },
  {
   "cell_type": "code",
   "execution_count": 29,
   "metadata": {},
   "outputs": [],
   "source": [
    "case1 = df_test.iloc[0::3].copy()\n",
    "case2 = df_test.iloc[1::3].copy()\n",
    "case3 = df_test.iloc[2::3].copy()"
   ]
  },
  {
   "cell_type": "code",
   "execution_count": 30,
   "metadata": {},
   "outputs": [
    {
     "data": {
      "text/html": [
       "<div>\n",
       "<style scoped>\n",
       "    .dataframe tbody tr th:only-of-type {\n",
       "        vertical-align: middle;\n",
       "    }\n",
       "\n",
       "    .dataframe tbody tr th {\n",
       "        vertical-align: top;\n",
       "    }\n",
       "\n",
       "    .dataframe thead th {\n",
       "        text-align: right;\n",
       "    }\n",
       "</style>\n",
       "<table border=\"1\" class=\"dataframe\">\n",
       "  <thead>\n",
       "    <tr style=\"text-align: right;\">\n",
       "      <th></th>\n",
       "      <th>Total Appts</th>\n",
       "      <th>Total Shows</th>\n",
       "      <th>Mean Show rate</th>\n",
       "    </tr>\n",
       "  </thead>\n",
       "  <tbody>\n",
       "    <tr>\n",
       "      <th>Predicted</th>\n",
       "      <td>47</td>\n",
       "      <td>32.74518</td>\n",
       "      <td>0.696706</td>\n",
       "    </tr>\n",
       "    <tr>\n",
       "      <th>Actual</th>\n",
       "      <td>47</td>\n",
       "      <td>30.00000</td>\n",
       "      <td>0.638298</td>\n",
       "    </tr>\n",
       "    <tr>\n",
       "      <th>Diffence</th>\n",
       "      <td>--</td>\n",
       "      <td>2.74518</td>\n",
       "      <td>0.058408</td>\n",
       "    </tr>\n",
       "  </tbody>\n",
       "</table>\n",
       "</div>"
      ],
      "text/plain": [
       "          Total Appts  Total Shows  Mean Show rate\n",
       "Predicted          47     32.74518        0.696706\n",
       "Actual             47     30.00000        0.638298\n",
       "Diffence           --      2.74518        0.058408"
      ]
     },
     "metadata": {},
     "output_type": "display_data"
    },
    {
     "data": {
      "text/html": [
       "<div>\n",
       "<style scoped>\n",
       "    .dataframe tbody tr th:only-of-type {\n",
       "        vertical-align: middle;\n",
       "    }\n",
       "\n",
       "    .dataframe tbody tr th {\n",
       "        vertical-align: top;\n",
       "    }\n",
       "\n",
       "    .dataframe thead th {\n",
       "        text-align: right;\n",
       "    }\n",
       "</style>\n",
       "<table border=\"1\" class=\"dataframe\">\n",
       "  <thead>\n",
       "    <tr style=\"text-align: right;\">\n",
       "      <th></th>\n",
       "      <th>Total Appts</th>\n",
       "      <th>Total Shows</th>\n",
       "      <th>Mean Show rate</th>\n",
       "    </tr>\n",
       "  </thead>\n",
       "  <tbody>\n",
       "    <tr>\n",
       "      <th>Predicted</th>\n",
       "      <td>46</td>\n",
       "      <td>31.810195</td>\n",
       "      <td>0.691526</td>\n",
       "    </tr>\n",
       "    <tr>\n",
       "      <th>Actual</th>\n",
       "      <td>46</td>\n",
       "      <td>33.000000</td>\n",
       "      <td>0.717391</td>\n",
       "    </tr>\n",
       "    <tr>\n",
       "      <th>Diffence</th>\n",
       "      <td>--</td>\n",
       "      <td>1.189805</td>\n",
       "      <td>0.025865</td>\n",
       "    </tr>\n",
       "  </tbody>\n",
       "</table>\n",
       "</div>"
      ],
      "text/plain": [
       "          Total Appts  Total Shows  Mean Show rate\n",
       "Predicted          46    31.810195        0.691526\n",
       "Actual             46    33.000000        0.717391\n",
       "Diffence           --     1.189805        0.025865"
      ]
     },
     "metadata": {},
     "output_type": "display_data"
    },
    {
     "data": {
      "text/html": [
       "<div>\n",
       "<style scoped>\n",
       "    .dataframe tbody tr th:only-of-type {\n",
       "        vertical-align: middle;\n",
       "    }\n",
       "\n",
       "    .dataframe tbody tr th {\n",
       "        vertical-align: top;\n",
       "    }\n",
       "\n",
       "    .dataframe thead th {\n",
       "        text-align: right;\n",
       "    }\n",
       "</style>\n",
       "<table border=\"1\" class=\"dataframe\">\n",
       "  <thead>\n",
       "    <tr style=\"text-align: right;\">\n",
       "      <th></th>\n",
       "      <th>Total Appts</th>\n",
       "      <th>Total Shows</th>\n",
       "      <th>Mean Show rate</th>\n",
       "    </tr>\n",
       "  </thead>\n",
       "  <tbody>\n",
       "    <tr>\n",
       "      <th>Predicted</th>\n",
       "      <td>46</td>\n",
       "      <td>31.857868</td>\n",
       "      <td>0.692562</td>\n",
       "    </tr>\n",
       "    <tr>\n",
       "      <th>Actual</th>\n",
       "      <td>46</td>\n",
       "      <td>32.000000</td>\n",
       "      <td>0.695652</td>\n",
       "    </tr>\n",
       "    <tr>\n",
       "      <th>Diffence</th>\n",
       "      <td>--</td>\n",
       "      <td>0.142132</td>\n",
       "      <td>0.003090</td>\n",
       "    </tr>\n",
       "  </tbody>\n",
       "</table>\n",
       "</div>"
      ],
      "text/plain": [
       "          Total Appts  Total Shows  Mean Show rate\n",
       "Predicted          46    31.857868        0.692562\n",
       "Actual             46    32.000000        0.695652\n",
       "Diffence           --     0.142132        0.003090"
      ]
     },
     "metadata": {},
     "output_type": "display_data"
    },
    {
     "name": "stdout",
     "output_type": "stream",
     "text": [
      "None None None\n"
     ]
    }
   ],
   "source": [
    "print(compare(case1),compare(case2), compare(case3));"
   ]
  },
  {
   "cell_type": "markdown",
   "metadata": {},
   "source": [
    "Not too shabby of a result! Avg %diff is 3.4 percent."
   ]
  },
  {
   "cell_type": "markdown",
   "metadata": {},
   "source": [
    "<a id='conclusions'></a>\n",
    "## Conclusions\n",
    "\n",
    "From this analysis it was determined that receiving an SMS had the highest magnitude correlation with a patient showed up to their appointment. Unexpectedly, this correlation was found to be negative. Later investigation showed that the number of days between a patient scheduling an appoinment determined wheter a patient recieved an SMS, and accounted for negative correlation. Relatedly, it was found that the time delay between scheduled days and appointment days was as siginificant contributor to the decrease in Show rate. The mean show rate for patients who did recieve an SMS is 5% higher for patients who schedule more than 3 days out. \n",
    "\n",
    "Age was also determined to be a significant contributor to Show rate. Across the age bucket analyzed the rate change was as large as 9%. Lastly, Scholarship status was found to be negatively correlated with the Show rate, and patients who recieved scholarship were 4% less likely to attend their appointments.\n",
    "\n",
    "Using Age, SMS reception, and Scholarship status, the number of Shows for a sample of patients can be predicted with a relative high degree of accuracy. The prediction equation used in this analysis managed a 3.4% differnce of the three samples tested. "
   ]
  },
  {
   "cell_type": "code",
   "execution_count": 34,
   "metadata": {},
   "outputs": [
    {
     "data": {
      "text/plain": [
       "0"
      ]
     },
     "execution_count": 34,
     "metadata": {},
     "output_type": "execute_result"
    }
   ],
   "source": [
    "from subprocess import call\n",
    "call(['python', '-m', 'nbconvert', 'Investigate_a_Dataset.ipynb'])"
   ]
  }
 ],
 "metadata": {
  "kernelspec": {
   "display_name": "Python 3",
   "language": "python",
   "name": "python3"
  },
  "language_info": {
   "codemirror_mode": {
    "name": "ipython",
    "version": 3
   },
   "file_extension": ".py",
   "mimetype": "text/x-python",
   "name": "python",
   "nbconvert_exporter": "python",
   "pygments_lexer": "ipython3",
   "version": "3.6.3"
  }
 },
 "nbformat": 4,
 "nbformat_minor": 2
}
